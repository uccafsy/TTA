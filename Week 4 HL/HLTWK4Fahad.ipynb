{
 "cells": [
  {
   "cell_type": "code",
   "execution_count": null,
   "metadata": {},
   "outputs": [],
   "source": [
    "#Pandas 1 & 2 \n",
    "\n",
    "import pandas as pd"
   ]
  },
  {
   "cell_type": "code",
   "execution_count": null,
   "metadata": {},
   "outputs": [],
   "source": [
    "#Task 1  \n",
    "\n",
    "holidaydata= pd.read_csv(\"15 Holiday Destinations.csv\")\n",
    "\n",
    "print(holidaydata)\n",
    "\n",
    "#15 rows 5 columns"
   ]
  },
  {
   "cell_type": "code",
   "execution_count": null,
   "metadata": {},
   "outputs": [],
   "source": [
    "#Task 2\n",
    "\n",
    "print(holidaydata.iloc[2:8])"
   ]
  },
  {
   "cell_type": "code",
   "execution_count": null,
   "metadata": {},
   "outputs": [],
   "source": [
    "#Task 3\n",
    "holidaydata[\"Hotels\"].mean()"
   ]
  },
  {
   "cell_type": "code",
   "execution_count": null,
   "metadata": {},
   "outputs": [],
   "source": [
    "#Task 4\n",
    "\n",
    "myfilter = holidaydata[\"Feedback Score\"] < 6\n",
    "lowscore = holidaydata[myfilter]\n",
    "lowscore.head()"
   ]
  },
  {
   "cell_type": "code",
   "execution_count": null,
   "metadata": {},
   "outputs": [],
   "source": [
    "#Task 5\n",
    "\n",
    "myfilter = holidaydata[\"Feedback Score\"] > 9.8\n",
    "highscore = holidaydata[myfilter]\n",
    "highscore.head()"
   ]
  },
  {
   "cell_type": "markdown",
   "metadata": {},
   "source": []
  },
  {
   "cell_type": "code",
   "execution_count": null,
   "metadata": {},
   "outputs": [],
   "source": [
    "#Task 6\n",
    "\n",
    "myfilter = holidaydata[\"Hotels\"] > 9\n",
    "highscore = holidaydata[myfilter]\n",
    "highscore.head()"
   ]
  },
  {
   "cell_type": "code",
   "execution_count": null,
   "metadata": {},
   "outputs": [],
   "source": [
    "#Task 7\n",
    "\n",
    "myfilter = holidaydata[\"Feedback Score\"] > 8\n",
    "highscore = holidaydata[myfilter]\n",
    "highscore.head()"
   ]
  },
  {
   "cell_type": "code",
   "execution_count": null,
   "metadata": {},
   "outputs": [],
   "source": [
    "#Task 8\n",
    "\n",
    "myfilter = holidaydata[\"Feedback Score\"] < 2\n",
    "lowscore = holidaydata[myfilter]\n",
    "lowscore.head()"
   ]
  },
  {
   "cell_type": "code",
   "execution_count": null,
   "metadata": {},
   "outputs": [],
   "source": [
    "#Extension 1\n",
    "\n"
   ]
  },
  {
   "cell_type": "code",
   "execution_count": null,
   "metadata": {},
   "outputs": [],
   "source": [
    "#Extension 2\n",
    "\n"
   ]
  }
 ],
 "metadata": {
  "interpreter": {
   "hash": "6bfa2d7abfbcd272191c1b06ff4061ae7a35448b296073ef21ee3009ddcece2f"
  },
  "kernelspec": {
   "display_name": "Python 3.10.0 64-bit",
   "language": "python",
   "name": "python3"
  },
  "language_info": {
   "codemirror_mode": {
    "name": "ipython",
    "version": 3
   },
   "file_extension": ".py",
   "mimetype": "text/x-python",
   "name": "python",
   "nbconvert_exporter": "python",
   "pygments_lexer": "ipython3",
   "version": "3.10.0"
  },
  "orig_nbformat": 4
 },
 "nbformat": 4,
 "nbformat_minor": 2
}
