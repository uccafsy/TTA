{
 "cells": [
  {
   "cell_type": "code",
   "execution_count": null,
   "metadata": {},
   "outputs": [],
   "source": [
    "#task 1\n",
    "\n",
    "import random\n",
    "\n",
    "myName= input(\"Hello! What is your name?\")\n",
    "number= random.randint(1,10)\n",
    "print(\"Well, \" + myName + \" I am thinking of a number between 1 and 10.\")\n",
    "guess= int(input(\"Take a guess:\"))\n",
    "\n",
    "if guess==number: \n",
    "    print(\"Good job,\"+ myName + \"! You guessed my number\")\n",
    "else:\n",
    "    print(\"You got it wrong, it was not:\" , guess, \"it was:\" ,number)"
   ]
  },
  {
   "cell_type": "code",
   "execution_count": null,
   "metadata": {},
   "outputs": [],
   "source": [
    "#task 2\n",
    "\n",
    "number=int(input(\"Hello!, Please tell me what your favourite number between 1 and 100 is?\"))\n",
    "\n",
    "if number < 30:\n",
    "    print('How do you make seven even... Take away the s!')\n",
    "elif number < 60:\n",
    "    print ('Are Halloween monsters good at math?....Not unless you Count Dracula!')\n",
    "elif number >=60:\n",
    "    print ('Why was 6 scared of 7?...Because 7 ate 9')\n",
    " "
   ]
  },
  {
   "cell_type": "code",
   "execution_count": null,
   "metadata": {},
   "outputs": [],
   "source": [
    "#task 3\n",
    "\n",
    "first = input(\"Hello! I'd like to know what your favourite starter is?\")\n",
    "second = input(\"Great, now what is your favourite main? \")\n",
    "third = input(\"Sure thing, what is your favourite desert\")\n",
    "fourth = input (\"and finally, what is your favourite drink\")\n",
    "\n",
    "print(\"Your favourite meal is\",first, \"as a starter, a\" , second, \"as a main and\", third, \"as your desert. With a glass of\",fourth)\n"
   ]
  },
  {
   "cell_type": "code",
   "execution_count": null,
   "metadata": {},
   "outputs": [],
   "source": [
    "#task 4\n",
    "\n",
    "value = 2000\n",
    "while value > 1000:\n",
    " print(\"The bike is worth £\",value)\n",
    " value = value * 0.90"
   ]
  },
  {
   "cell_type": "code",
   "execution_count": null,
   "metadata": {},
   "outputs": [],
   "source": [
    "#task 5\n",
    "\n",
    "num1 = int(input(\"Please Enter First Number: \"))\n",
    "num2 = int(input(\"Please Enter Second Number: \"))\n",
    "sign = input(\"Please Enter any of these signs for specific operation (+,-,*,/,**,%,//): \")\n",
    "\n",
    "if sign == '+':\n",
    "    print(num1 + num2)\n",
    "elif sign == '-':\n",
    "    print(num1 - num2)\n",
    "elif sign == '*':\n",
    "    print(num1 * num2)\n",
    "elif sign == '/':\n",
    "   print= (num1 / num2)\n",
    "elif sign == '**':\n",
    "    print= (num1 ** num2)\n",
    "elif sign == '//':\n",
    "    print= (num1 // num2)    \n",
    "else:\n",
    "    print(\"An appropriate operator was not selected!\")"
   ]
  }
 ],
 "metadata": {
  "interpreter": {
   "hash": "6bfa2d7abfbcd272191c1b06ff4061ae7a35448b296073ef21ee3009ddcece2f"
  },
  "kernelspec": {
   "display_name": "Python 3.10.0 64-bit",
   "name": "python3"
  },
  "language_info": {
   "codemirror_mode": {
    "name": "ipython",
    "version": 3
   },
   "file_extension": ".py",
   "mimetype": "text/x-python",
   "name": "python",
   "nbconvert_exporter": "python",
   "pygments_lexer": "ipython3",
   "version": "3.10.0"
  },
  "orig_nbformat": 4
 },
 "nbformat": 4,
 "nbformat_minor": 2
}
