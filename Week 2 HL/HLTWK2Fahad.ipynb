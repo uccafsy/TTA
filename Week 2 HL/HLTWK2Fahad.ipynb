{
 "cells": [
  {
   "cell_type": "code",
   "execution_count": null,
   "metadata": {},
   "outputs": [],
   "source": [
    "#task 1\n",
    "\n",
    "import random\n",
    "\n",
    "myName= input(\"Hello! What is your name?\")\n",
    "number= random.randint(1,10)\n",
    "print(\"Well, \" + myName + \" I am thinking of a number between 1 and 10.\")\n",
    "guess= int(input(\"Take a guess:\"))\n",
    "\n",
    "if guess==number: \n",
    "    print(\"Good job,\"+ myName + \"! You guessed my number\")\n",
    "else:\n",
    "    print(\"Wrong, better luck next time!\")"
   ]
  },
  {
   "cell_type": "code",
   "execution_count": null,
   "metadata": {},
   "outputs": [],
   "source": [
    "#task 2\n",
    "\n",
    "guess=int(input(\"Hello!, Please tell me what your favourite number between 1 and 100 is?\"))\n",
    "\n",
    "if guess >= 1 and guess <=100:\n",
    "    print ('Thanks for letting me know, here are 3 jokes I would like to share with you')\n",
    "    print ('How do you make seven even... Take away the s!')\n",
    "    print ('Are Halloween monsters good at math?....Not unless you Count Dracula!')\n",
    "    print ('And your final joke is...... Why was 6 scared of 7?...Because 789')\n",
    "else: \n",
    "    print ('Jokes over that is not what I asked for.... see you next time!')      \n",
    " "
   ]
  },
  {
   "cell_type": "code",
   "execution_count": null,
   "metadata": {},
   "outputs": [],
   "source": [
    "#task 3\n",
    "\n",
    "first = input(\"Hello! I'd like to know what your favourite starter is?\")\n",
    "second = input(\"Great, now what is your favourite main? \")\n",
    "third = input(\"Sure thing, what is your favourite desert\")\n",
    "fourth = input (\"and finally, what is your favourite drink\")\n",
    "\n",
    "print(\"your favorite meal is\"+  first + second  + third + \"with a glass of \" +fourth)\n"
   ]
  },
  {
   "cell_type": "code",
   "execution_count": null,
   "metadata": {},
   "outputs": [],
   "source": [
    "#task 4\n",
    "\n",
    "value = 2000\n",
    "while value > 1000:\n",
    " print(\"£\",value)\n",
    " value = value * 0.9"
   ]
  },
  {
   "cell_type": "code",
   "execution_count": null,
   "metadata": {},
   "outputs": [],
   "source": [
    "#task 5\n",
    "\n",
    "num1 = int(input(\"Enter First Number: \"))\n",
    "num2 = int(input(\"Enter Second Number: \"))\n",
    "\n",
    "print(\"Enter which operation would you like to perform?\")\n",
    "ch = input(\"Enter any of these chars for specific operation +,-,*,/: \")\n",
    "\n",
    "result = 0\n",
    "if ch == '+':\n",
    "    result = num1 + num2\n",
    "elif ch == '-':\n",
    "    result = num1 - num2\n",
    "elif ch == '*':\n",
    "    result = num1 * num2\n",
    "elif ch == '/':\n",
    "    result = num1 / num2\n",
    "else:\n",
    "    print(\"Input character is not recognized!\")\n",
    "\n",
    "print(num1, ch , num2, \":\", result)"
   ]
  }
 ],
 "metadata": {
  "interpreter": {
   "hash": "6bfa2d7abfbcd272191c1b06ff4061ae7a35448b296073ef21ee3009ddcece2f"
  },
  "kernelspec": {
   "display_name": "Python 3.10.0 64-bit",
   "name": "python3"
  },
  "language_info": {
   "codemirror_mode": {
    "name": "ipython",
    "version": 3
   },
   "file_extension": ".py",
   "mimetype": "text/x-python",
   "name": "python",
   "nbconvert_exporter": "python",
   "pygments_lexer": "ipython3",
   "version": "3.10.0"
  },
  "orig_nbformat": 4
 },
 "nbformat": 4,
 "nbformat_minor": 2
}
