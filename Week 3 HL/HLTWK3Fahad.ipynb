{
 "cells": [
  {
   "cell_type": "code",
   "execution_count": null,
   "metadata": {},
   "outputs": [],
   "source": [
    "#task 1\n",
    "\n",
    "numbers = [3,45,83,21]\n",
    "print(numbers)\n",
    "\n",
    "my_file = open('numbers.txt','w')\n",
    "for i in range(len(numbers)):\n",
    "    my_file.write(str(i))\n",
    "    my_file.write('\\n')\n",
    "\n",
    "\n",
    "my_file.close()"
   ]
  },
  {
   "cell_type": "code",
   "execution_count": null,
   "metadata": {},
   "outputs": [],
   "source": [
    "#task 2\n",
    "\n",
    "def mark_grade():\n",
    "  percent_mark = float(input(\"What's your percentage score? \"))\n",
    "  if percent_mark >= 90 and percent_mark <= 100: \n",
    "    grade = \"A\"\n",
    "    print(f\"You scored {grade} in your exam.\")\n",
    "\n",
    "  elif percent_mark >= 80 and percent_mark < 90:\n",
    "    grade = \"B\"\n",
    "    print(f\"You scored {grade} in your exam.\")\n",
    "\n",
    "  elif percent_mark >= 70 and percent_mark < 80:\n",
    "    grade = \"C\"\n",
    "    print(f\"You scored {grade} in your exam.\")\n",
    "\n",
    "  elif percent_mark >= 60 and percent_mark < 70:\n",
    "    grade = \"D\"\n",
    "    print(f\"You scored {grade} in your exam.\")\n",
    "\n",
    "  elif percent_mark >= 40 and percent_mark < 60:\n",
    "    grade = \"E\"\n",
    "    print(f\"You scored {grade} in your exam.\")\n",
    "\n",
    "  elif percent_mark >=0 and percent_mark < 40:\n",
    "    grade = \"F\"\n",
    "    print(f\"You scored {grade} in your exam.\")\n",
    "\n",
    "  else:\n",
    "    print(\"Incorrect score, percentage score must be between 0 and 100. Please enter your correct mark: \\n\")\n",
    "    return mark_grade()\n",
    "\n",
    "mark_grade()"
   ]
  },
  {
   "cell_type": "code",
   "execution_count": null,
   "metadata": {},
   "outputs": [],
   "source": [
    "#NumPy task 1\n",
    "\n",
    "import numpy as np\n",
    "array= np.arange(10) \n",
    "\n",
    "print(array)\n"
   ]
  },
  {
   "cell_type": "code",
   "execution_count": null,
   "metadata": {},
   "outputs": [],
   "source": [
    "#NumPy task 2\n",
    "\n",
    "import numpy as np\n",
    "\n",
    "true_array= np.full(shape= (3,3), fill_value= True, dtype =bool)\n",
    "print(true_array)"
   ]
  },
  {
   "cell_type": "code",
   "execution_count": null,
   "metadata": {},
   "outputs": [],
   "source": [
    "#NumPy task 3\n",
    "\n",
    "import numpy as np\n",
    "# create array of 1-10\n",
    "\n",
    "array= np.arange(1,11)\n",
    "print(array)\n",
    "\n",
    "\n",
    "# print odd numbers in array\n",
    "for i in array:\n",
    "    if i % 2 != 0:\n",
    "        print(f\"{i} is an odd number.\")"
   ]
  },
  {
   "cell_type": "code",
   "execution_count": null,
   "metadata": {},
   "outputs": [],
   "source": [
    "#NumPy task 4\n",
    "\n",
    "import numpy as np\n",
    "#create array of 1-10\n",
    "array = np.arange(1,11)\n",
    "print(array)\n",
    "\n",
    "\n",
    "# create new array from array above replacing odd vlaues in array with -1\n",
    "new_array = np.where(array % 2 != 0, -1, array)\n",
    "print(new_array)"
   ]
  },
  {
   "cell_type": "code",
   "execution_count": null,
   "metadata": {},
   "outputs": [],
   "source": [
    "#NumPy task 5\n",
    "\n",
    "import numpy as np\n",
    "# Create 1d array\n",
    "array_1d = np.array([1,2,3,4,5,6,7,8,9,10])\n",
    "\n",
    "# convert the array to 2D array with two rows\n",
    "array_2d = array_1d.reshape(2,5)\n",
    "\n",
    "print(f\"1D array: {array_1d} \\n2D array with 2 rows: \\n{array_2d}\")"
   ]
  },
  {
   "cell_type": "code",
   "execution_count": null,
   "metadata": {},
   "outputs": [],
   "source": [
    "#NumPy task 6\n",
    "\n",
    "import numpy as np\n",
    "# Create arrays a and b\n",
    "a = np.arange(10, 19).reshape(3,3)\n",
    "b = np.arange(19,28).reshape(3,3)\n",
    "\n",
    "\n",
    "# Stack a and b vertically\n",
    "v_stack = np.vstack((a,b))\n",
    "print(v_stack)\n",
    "\n",
    "calculate totals using np.dot and np.sum\n",
    "c= np.dot(a,b)\n",
    "print(c)\n",
    "\n",
    "print(np.sum(c))\n"
   ]
  }
 ],
 "metadata": {
  "interpreter": {
   "hash": "6bfa2d7abfbcd272191c1b06ff4061ae7a35448b296073ef21ee3009ddcece2f"
  },
  "kernelspec": {
   "display_name": "Python 3.10.0 64-bit",
   "name": "python3"
  },
  "language_info": {
   "codemirror_mode": {
    "name": "ipython",
    "version": 3
   },
   "file_extension": ".py",
   "mimetype": "text/x-python",
   "name": "python",
   "nbconvert_exporter": "python",
   "pygments_lexer": "ipython3",
   "version": "3.10.0"
  },
  "orig_nbformat": 4
 },
 "nbformat": 4,
 "nbformat_minor": 2
}
